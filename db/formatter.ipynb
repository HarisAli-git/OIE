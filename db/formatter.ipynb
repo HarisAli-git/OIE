{
 "cells": [
  {
   "cell_type": "code",
   "execution_count": 1,
   "id": "fe2190e6-d54d-48e2-b45f-128709bd32a9",
   "metadata": {},
   "outputs": [],
   "source": [
    "import pandas as pd"
   ]
  },
  {
   "cell_type": "code",
   "execution_count": 2,
   "id": "3fd98de7-8313-4ed9-b614-163101873aca",
   "metadata": {},
   "outputs": [],
   "source": [
    "df = pd.read_csv(\"tariff.csv\")"
   ]
  },
  {
   "cell_type": "code",
   "execution_count": 3,
   "id": "f1fbb9d2-36ec-4d26-b569-f457f32ecaf4",
   "metadata": {},
   "outputs": [
    {
     "data": {
      "text/html": [
       "<div>\n",
       "<style scoped>\n",
       "    .dataframe tbody tr th:only-of-type {\n",
       "        vertical-align: middle;\n",
       "    }\n",
       "\n",
       "    .dataframe tbody tr th {\n",
       "        vertical-align: top;\n",
       "    }\n",
       "\n",
       "    .dataframe thead th {\n",
       "        text-align: right;\n",
       "    }\n",
       "</style>\n",
       "<table border=\"1\" class=\"dataframe\">\n",
       "  <thead>\n",
       "    <tr style=\"text-align: right;\">\n",
       "      <th></th>\n",
       "      <th>PCT_CODE</th>\n",
       "      <th>DESCRIPTION</th>\n",
       "      <th>CD</th>\n",
       "    </tr>\n",
       "  </thead>\n",
       "  <tbody>\n",
       "    <tr>\n",
       "      <th>0</th>\n",
       "      <td>NaN</td>\n",
       "      <td>NaN</td>\n",
       "      <td>NaN</td>\n",
       "    </tr>\n",
       "    <tr>\n",
       "      <th>1</th>\n",
       "      <td>101</td>\n",
       "      <td>Live horses, asses, mules and hinnies.</td>\n",
       "      <td>NaN</td>\n",
       "    </tr>\n",
       "    <tr>\n",
       "      <th>2</th>\n",
       "      <td>NaN</td>\n",
       "      <td>- Horses:</td>\n",
       "      <td>NaN</td>\n",
       "    </tr>\n",
       "    <tr>\n",
       "      <th>3</th>\n",
       "      <td>10121</td>\n",
       "      <td>- - Pure-bred breeding animals</td>\n",
       "      <td>3</td>\n",
       "    </tr>\n",
       "    <tr>\n",
       "      <th>4</th>\n",
       "      <td>10129</td>\n",
       "      <td>- - Other</td>\n",
       "      <td>3</td>\n",
       "    </tr>\n",
       "  </tbody>\n",
       "</table>\n",
       "</div>"
      ],
      "text/plain": [
       "  PCT_CODE                             DESCRIPTION   CD\n",
       "0      NaN                                     NaN  NaN\n",
       "1      101  Live horses, asses, mules and hinnies.  NaN\n",
       "2      NaN                               - Horses:  NaN\n",
       "3    10121          - - Pure-bred breeding animals    3\n",
       "4    10129                               - - Other    3"
      ]
     },
     "execution_count": 3,
     "metadata": {},
     "output_type": "execute_result"
    }
   ],
   "source": [
    "df.head()"
   ]
  },
  {
   "cell_type": "code",
   "execution_count": 4,
   "id": "34262717-7521-4c5d-9f5e-61ba38c75cd7",
   "metadata": {},
   "outputs": [
    {
     "name": "stdout",
     "output_type": "stream",
     "text": [
      "<class 'pandas.core.frame.DataFrame'>\n",
      "RangeIndex: 11967 entries, 0 to 11966\n",
      "Data columns (total 3 columns):\n",
      " #   Column       Non-Null Count  Dtype \n",
      "---  ------       --------------  ----- \n",
      " 0   PCT_CODE     8643 non-null   object\n",
      " 1   DESCRIPTION  11929 non-null  object\n",
      " 2   CD           7588 non-null   object\n",
      "dtypes: object(3)\n",
      "memory usage: 280.6+ KB\n"
     ]
    }
   ],
   "source": [
    "df.info()"
   ]
  },
  {
   "cell_type": "code",
   "execution_count": 5,
   "id": "5cdb5732-fea0-4742-898e-7a54284bfb08",
   "metadata": {},
   "outputs": [
    {
     "name": "stdout",
     "output_type": "stream",
     "text": [
      "PCT_CODE       3324\n",
      "DESCRIPTION      38\n",
      "CD             4379\n",
      "dtype: int64\n"
     ]
    }
   ],
   "source": [
    "print(df.isna().sum())"
   ]
  },
  {
   "cell_type": "code",
   "execution_count": 6,
   "id": "7f30bbc4-af27-4be7-9b4d-7db7a2f39bde",
   "metadata": {},
   "outputs": [
    {
     "name": "stdout",
     "output_type": "stream",
     "text": [
      "Extracted Categories:\n",
      "     PCT_CODE                                        DESCRIPTION   CD\n",
      "0         101             Live horses, asses, mules and hinnies.  NaN\n",
      "1         102                               Live bovine animals.  NaN\n",
      "2         103                                        Live swine.  NaN\n",
      "3         104                              Live sheep and goats.  NaN\n",
      "4         105  Live poultry, that is to say, fowls of the spe...  NaN\n",
      "...       ...                                                ...  ...\n",
      "1050     9701  Paintings, drawings and pastels, executed enti...  NaN\n",
      "1051     9702       Original engravings, prints and lithographs.  NaN\n",
      "1052     9703  Original sculptures and statuary, in any mater...  NaN\n",
      "1053     9705  Collections and collectors’ pieces of archaeol...  NaN\n",
      "1054     9706            Antiques of an age exceeding 100 years.  NaN\n",
      "\n",
      "[1055 rows x 3 columns]\n"
     ]
    }
   ],
   "source": [
    "category_df = df[df['CD'].isna() & df['PCT_CODE'].notna()].reset_index(drop=True)\n",
    "\n",
    "print(\"Extracted Categories:\")\n",
    "print(category_df)"
   ]
  },
  {
   "cell_type": "code",
   "execution_count": 7,
   "id": "e5c398f7-a648-46f1-a85a-43cfd4d1b66e",
   "metadata": {},
   "outputs": [],
   "source": [
    "df_cleaned = df.drop(category_df.index).reset_index(drop=True)"
   ]
  },
  {
   "cell_type": "code",
   "execution_count": 8,
   "id": "4d44b681-9e30-45c4-a220-b5726b4df3f0",
   "metadata": {},
   "outputs": [
    {
     "data": {
      "text/html": [
       "<div>\n",
       "<style scoped>\n",
       "    .dataframe tbody tr th:only-of-type {\n",
       "        vertical-align: middle;\n",
       "    }\n",
       "\n",
       "    .dataframe tbody tr th {\n",
       "        vertical-align: top;\n",
       "    }\n",
       "\n",
       "    .dataframe thead th {\n",
       "        text-align: right;\n",
       "    }\n",
       "</style>\n",
       "<table border=\"1\" class=\"dataframe\">\n",
       "  <thead>\n",
       "    <tr style=\"text-align: right;\">\n",
       "      <th></th>\n",
       "      <th>PCT_CODE</th>\n",
       "      <th>DESCRIPTION</th>\n",
       "      <th>CD</th>\n",
       "    </tr>\n",
       "  </thead>\n",
       "  <tbody>\n",
       "    <tr>\n",
       "      <th>0</th>\n",
       "      <td>15093</td>\n",
       "      <td>- Virgin olive oil</td>\n",
       "      <td>Rs.5 000/ MT</td>\n",
       "    </tr>\n",
       "    <tr>\n",
       "      <th>1</th>\n",
       "      <td>15094</td>\n",
       "      <td>- Other virgin olive oils</td>\n",
       "      <td>Rs.500 0/MT</td>\n",
       "    </tr>\n",
       "    <tr>\n",
       "      <th>2</th>\n",
       "      <td>15099</td>\n",
       "      <td>- Other</td>\n",
       "      <td>Rs.6 MT</td>\n",
       "    </tr>\n",
       "    <tr>\n",
       "      <th>3</th>\n",
       "      <td>151</td>\n",
       "      <td>Other oils and their fractions, obtained solel...</td>\n",
       "      <td>NaN</td>\n",
       "    </tr>\n",
       "    <tr>\n",
       "      <th>4</th>\n",
       "      <td>15101</td>\n",
       "      <td>- Crude olive pomace oil</td>\n",
       "      <td>Rs.6000/\\nMT</td>\n",
       "    </tr>\n",
       "  </tbody>\n",
       "</table>\n",
       "</div>"
      ],
      "text/plain": [
       "  PCT_CODE                                        DESCRIPTION            CD\n",
       "0    15093                                 - Virgin olive oil  Rs.5 000/ MT\n",
       "1    15094                          - Other virgin olive oils   Rs.500 0/MT\n",
       "2    15099                                            - Other       Rs.6 MT\n",
       "3      151  Other oils and their fractions, obtained solel...           NaN\n",
       "4    15101                           - Crude olive pomace oil  Rs.6000/\\nMT"
      ]
     },
     "execution_count": 8,
     "metadata": {},
     "output_type": "execute_result"
    }
   ],
   "source": [
    "df_cleaned.head()"
   ]
  },
  {
   "cell_type": "code",
   "execution_count": 9,
   "id": "e027042e-aff6-4aa7-b24d-7633aca5bca4",
   "metadata": {},
   "outputs": [
    {
     "name": "stdout",
     "output_type": "stream",
     "text": [
      "<class 'pandas.core.frame.DataFrame'>\n",
      "RangeIndex: 10912 entries, 0 to 10911\n",
      "Data columns (total 3 columns):\n",
      " #   Column       Non-Null Count  Dtype \n",
      "---  ------       --------------  ----- \n",
      " 0   PCT_CODE     7747 non-null   object\n",
      " 1   DESCRIPTION  10879 non-null  object\n",
      " 2   CD           6810 non-null   object\n",
      "dtypes: object(3)\n",
      "memory usage: 255.9+ KB\n"
     ]
    }
   ],
   "source": [
    "df_cleaned.info()"
   ]
  },
  {
   "cell_type": "code",
   "execution_count": 10,
   "id": "6bef2942-8c70-458b-8e32-158f5a33da70",
   "metadata": {},
   "outputs": [],
   "source": [
    "category_df = category_df.drop(columns=['CD'])"
   ]
  },
  {
   "cell_type": "code",
   "execution_count": 11,
   "id": "f8a0ad4f-6511-4108-bccc-ca96286041f3",
   "metadata": {},
   "outputs": [
    {
     "name": "stdout",
     "output_type": "stream",
     "text": [
      "Extracted Categories:\n",
      "     PCT_CODE                                        DESCRIPTION\n",
      "0         101             Live horses, asses, mules and hinnies.\n",
      "1         102                               Live bovine animals.\n",
      "2         103                                        Live swine.\n",
      "3         104                              Live sheep and goats.\n",
      "4         105  Live poultry, that is to say, fowls of the spe...\n",
      "...       ...                                                ...\n",
      "1050     9701  Paintings, drawings and pastels, executed enti...\n",
      "1051     9702       Original engravings, prints and lithographs.\n",
      "1052     9703  Original sculptures and statuary, in any mater...\n",
      "1053     9705  Collections and collectors’ pieces of archaeol...\n",
      "1054     9706            Antiques of an age exceeding 100 years.\n",
      "\n",
      "[1055 rows x 2 columns]\n"
     ]
    }
   ],
   "source": [
    "print(\"Extracted Categories:\")\n",
    "print(category_df)"
   ]
  },
  {
   "cell_type": "code",
   "execution_count": 12,
   "id": "610bfb3b-7357-4acc-8890-de8befd537d9",
   "metadata": {},
   "outputs": [
    {
     "name": "stdout",
     "output_type": "stream",
     "text": [
      "PCT_CODE       3165\n",
      "DESCRIPTION      33\n",
      "CD             4102\n",
      "dtype: int64\n"
     ]
    }
   ],
   "source": [
    "print(df_cleaned.isna().sum())"
   ]
  },
  {
   "cell_type": "code",
   "execution_count": 13,
   "id": "7b58894d-68f5-4cea-a23c-24ea157a0c69",
   "metadata": {},
   "outputs": [],
   "source": [
    "df_cleaned = df_cleaned.dropna()"
   ]
  },
  {
   "cell_type": "code",
   "execution_count": 14,
   "id": "e8e1836e-6e0a-49e1-a0bb-875d2e084d4c",
   "metadata": {},
   "outputs": [
    {
     "data": {
      "text/html": [
       "<div>\n",
       "<style scoped>\n",
       "    .dataframe tbody tr th:only-of-type {\n",
       "        vertical-align: middle;\n",
       "    }\n",
       "\n",
       "    .dataframe tbody tr th {\n",
       "        vertical-align: top;\n",
       "    }\n",
       "\n",
       "    .dataframe thead th {\n",
       "        text-align: right;\n",
       "    }\n",
       "</style>\n",
       "<table border=\"1\" class=\"dataframe\">\n",
       "  <thead>\n",
       "    <tr style=\"text-align: right;\">\n",
       "      <th></th>\n",
       "      <th>PCT_CODE</th>\n",
       "      <th>DESCRIPTION</th>\n",
       "      <th>CD</th>\n",
       "    </tr>\n",
       "  </thead>\n",
       "  <tbody>\n",
       "    <tr>\n",
       "      <th>0</th>\n",
       "      <td>15093</td>\n",
       "      <td>- Virgin olive oil</td>\n",
       "      <td>Rs.5 000/ MT</td>\n",
       "    </tr>\n",
       "    <tr>\n",
       "      <th>1</th>\n",
       "      <td>15094</td>\n",
       "      <td>- Other virgin olive oils</td>\n",
       "      <td>Rs.500 0/MT</td>\n",
       "    </tr>\n",
       "    <tr>\n",
       "      <th>2</th>\n",
       "      <td>15099</td>\n",
       "      <td>- Other</td>\n",
       "      <td>Rs.6 MT</td>\n",
       "    </tr>\n",
       "    <tr>\n",
       "      <th>4</th>\n",
       "      <td>15101</td>\n",
       "      <td>- Crude olive pomace oil</td>\n",
       "      <td>Rs.6000/\\nMT</td>\n",
       "    </tr>\n",
       "    <tr>\n",
       "      <th>5</th>\n",
       "      <td>15109</td>\n",
       "      <td>- Other</td>\n",
       "      <td>Rs.6 000/ MT</td>\n",
       "    </tr>\n",
       "  </tbody>\n",
       "</table>\n",
       "</div>"
      ],
      "text/plain": [
       "  PCT_CODE                DESCRIPTION            CD\n",
       "0    15093         - Virgin olive oil  Rs.5 000/ MT\n",
       "1    15094  - Other virgin olive oils   Rs.500 0/MT\n",
       "2    15099                    - Other       Rs.6 MT\n",
       "4    15101   - Crude olive pomace oil  Rs.6000/\\nMT\n",
       "5    15109                    - Other  Rs.6 000/ MT"
      ]
     },
     "execution_count": 14,
     "metadata": {},
     "output_type": "execute_result"
    }
   ],
   "source": [
    "df_cleaned.head()"
   ]
  },
  {
   "cell_type": "code",
   "execution_count": 15,
   "id": "dc7d489d-9924-4b56-af71-ef76aa3d3dec",
   "metadata": {},
   "outputs": [
    {
     "name": "stdout",
     "output_type": "stream",
     "text": [
      "<class 'pandas.core.frame.DataFrame'>\n",
      "Index: 6810 entries, 0 to 10911\n",
      "Data columns (total 3 columns):\n",
      " #   Column       Non-Null Count  Dtype \n",
      "---  ------       --------------  ----- \n",
      " 0   PCT_CODE     6810 non-null   object\n",
      " 1   DESCRIPTION  6810 non-null   object\n",
      " 2   CD           6810 non-null   object\n",
      "dtypes: object(3)\n",
      "memory usage: 212.8+ KB\n"
     ]
    }
   ],
   "source": [
    "df_cleaned.info()"
   ]
  },
  {
   "cell_type": "code",
   "execution_count": 16,
   "id": "3e48cf2d-f230-47a7-a91e-e5144175d257",
   "metadata": {},
   "outputs": [
    {
     "data": {
      "text/html": [
       "<div>\n",
       "<style scoped>\n",
       "    .dataframe tbody tr th:only-of-type {\n",
       "        vertical-align: middle;\n",
       "    }\n",
       "\n",
       "    .dataframe tbody tr th {\n",
       "        vertical-align: top;\n",
       "    }\n",
       "\n",
       "    .dataframe thead th {\n",
       "        text-align: right;\n",
       "    }\n",
       "</style>\n",
       "<table border=\"1\" class=\"dataframe\">\n",
       "  <thead>\n",
       "    <tr style=\"text-align: right;\">\n",
       "      <th></th>\n",
       "      <th>PCT_CODE</th>\n",
       "      <th>DESCRIPTION</th>\n",
       "      <th>CD</th>\n",
       "    </tr>\n",
       "  </thead>\n",
       "  <tbody>\n",
       "    <tr>\n",
       "      <th>0</th>\n",
       "      <td>15093</td>\n",
       "      <td>- Virgin olive oil</td>\n",
       "      <td>Rs.5 000/ MT</td>\n",
       "    </tr>\n",
       "    <tr>\n",
       "      <th>1</th>\n",
       "      <td>15094</td>\n",
       "      <td>- Other virgin olive oils</td>\n",
       "      <td>Rs.500 0/MT</td>\n",
       "    </tr>\n",
       "    <tr>\n",
       "      <th>2</th>\n",
       "      <td>15099</td>\n",
       "      <td>- Other</td>\n",
       "      <td>Rs.6 MT</td>\n",
       "    </tr>\n",
       "    <tr>\n",
       "      <th>4</th>\n",
       "      <td>15101</td>\n",
       "      <td>- Crude olive pomace oil</td>\n",
       "      <td>Rs.6000/\\nMT</td>\n",
       "    </tr>\n",
       "    <tr>\n",
       "      <th>5</th>\n",
       "      <td>15109</td>\n",
       "      <td>- Other</td>\n",
       "      <td>Rs.6 000/ MT</td>\n",
       "    </tr>\n",
       "    <tr>\n",
       "      <th>...</th>\n",
       "      <td>...</td>\n",
       "      <td>...</td>\n",
       "      <td>...</td>\n",
       "    </tr>\n",
       "    <tr>\n",
       "      <th>10905</th>\n",
       "      <td>970529</td>\n",
       "      <td>- - Other</td>\n",
       "      <td>3</td>\n",
       "    </tr>\n",
       "    <tr>\n",
       "      <th>10907</th>\n",
       "      <td>970531</td>\n",
       "      <td>- - Of an age exceeding 100 years</td>\n",
       "      <td>3</td>\n",
       "    </tr>\n",
       "    <tr>\n",
       "      <th>10908</th>\n",
       "      <td>970539</td>\n",
       "      <td>- - Other</td>\n",
       "      <td>3</td>\n",
       "    </tr>\n",
       "    <tr>\n",
       "      <th>10910</th>\n",
       "      <td>97061</td>\n",
       "      <td>- Of an age exceeding 250 years</td>\n",
       "      <td>3</td>\n",
       "    </tr>\n",
       "    <tr>\n",
       "      <th>10911</th>\n",
       "      <td>97069</td>\n",
       "      <td>- Other</td>\n",
       "      <td>3</td>\n",
       "    </tr>\n",
       "  </tbody>\n",
       "</table>\n",
       "<p>6810 rows × 3 columns</p>\n",
       "</div>"
      ],
      "text/plain": [
       "      PCT_CODE                        DESCRIPTION            CD\n",
       "0        15093                 - Virgin olive oil  Rs.5 000/ MT\n",
       "1        15094          - Other virgin olive oils   Rs.500 0/MT\n",
       "2        15099                            - Other       Rs.6 MT\n",
       "4        15101           - Crude olive pomace oil  Rs.6000/\\nMT\n",
       "5        15109                            - Other  Rs.6 000/ MT\n",
       "...        ...                                ...           ...\n",
       "10905   970529                          - - Other             3\n",
       "10907   970531  - - Of an age exceeding 100 years             3\n",
       "10908   970539                          - - Other             3\n",
       "10910    97061    - Of an age exceeding 250 years             3\n",
       "10911    97069                            - Other             3\n",
       "\n",
       "[6810 rows x 3 columns]"
      ]
     },
     "execution_count": 16,
     "metadata": {},
     "output_type": "execute_result"
    }
   ],
   "source": [
    "df_cleaned"
   ]
  },
  {
   "cell_type": "code",
   "execution_count": 17,
   "id": "6fa42550-dee2-41f1-a93a-252dc1aaa199",
   "metadata": {},
   "outputs": [],
   "source": [
    "df_cleaned.to_csv(\"tariff_cleaned.csv\", index=False)\n",
    "category_df.to_csv(\"categories_only.csv\", index=False)"
   ]
  },
  {
   "cell_type": "code",
   "execution_count": 18,
   "id": "72bf625d-bf78-4dd9-aee1-ba5f7bfdfd57",
   "metadata": {},
   "outputs": [
    {
     "name": "stdout",
     "output_type": "stream",
     "text": [
      "PCT_CODE        0\n",
      "DESCRIPTION    37\n",
      "dtype: int64\n"
     ]
    }
   ],
   "source": [
    "print(category_df.isna().sum())"
   ]
  },
  {
   "cell_type": "code",
   "execution_count": 19,
   "id": "0e03bcd1-0f83-4ff6-9a97-b46545081957",
   "metadata": {},
   "outputs": [],
   "source": [
    "category_df = category_df.dropna()"
   ]
  },
  {
   "cell_type": "code",
   "execution_count": 20,
   "id": "429b6743-1ebe-4473-ba92-5dbeaf2e0d66",
   "metadata": {},
   "outputs": [],
   "source": [
    "category_df.to_csv(\"categories_only.csv\", index=False)"
   ]
  },
  {
   "cell_type": "code",
   "execution_count": 21,
   "id": "a7b9756d-f1c5-4c9f-bdee-862b50241148",
   "metadata": {},
   "outputs": [],
   "source": [
    "mapped_rows = []\n",
    "current_category = None\n",
    "current_pct_prefix = None\n",
    "\n",
    "for idx, row in df.iterrows():\n",
    "    pct = row['PCT_CODE']\n",
    "    desc = row['DESCRIPTION']\n",
    "    cd = row['CD']\n",
    "    \n",
    "    if pd.notna(pct) and pd.isna(cd):\n",
    "        current_category = desc.strip() if isinstance(desc, str) else None\n",
    "        current_pct_prefix = str(pct)\n",
    "    elif pd.notna(cd):\n",
    "        mapped_rows.append((row['PCT_CODE'], row['DESCRIPTION'], row['CD'], current_category, current_pct_prefix))\n",
    "\n",
    "# Step 2: Build DataFrame with mapped categories\n",
    "mapped_df = pd.DataFrame(mapped_rows, columns=['PCT_CODE', 'DESCRIPTION', 'CD', 'CATEGORY', 'CATEGORY_PCT'])\n",
    "\n",
    "# Step 3: Save\n",
    "mapped_df.to_csv(\"products_with_categories.csv\", index=False)"
   ]
  }
 ],
 "metadata": {
  "kernelspec": {
   "display_name": "Python 3 (ipykernel)",
   "language": "python",
   "name": "python3"
  },
  "language_info": {
   "codemirror_mode": {
    "name": "ipython",
    "version": 3
   },
   "file_extension": ".py",
   "mimetype": "text/x-python",
   "name": "python",
   "nbconvert_exporter": "python",
   "pygments_lexer": "ipython3",
   "version": "3.13.2"
  }
 },
 "nbformat": 4,
 "nbformat_minor": 5
}
